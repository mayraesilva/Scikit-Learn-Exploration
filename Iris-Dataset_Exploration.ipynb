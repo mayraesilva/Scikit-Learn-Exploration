{
 "cells": [
  {
   "cell_type": "markdown",
   "id": "9b013417",
   "metadata": {},
   "source": [
    "🌸 Exploring the Iris Dataset\n",
    "\n",
    "In this notebook, I’ll be exploring the classic Iris dataset from Scikit-learn. This dataset contains measurements of 150 iris flowers from three different species (setosa, versicolor, and virginica), with features such as sepal length, sepal width, petal length, and petal width. It’s commonly used for classification tasks and to demonstrate basic machine learning workflows."
   ]
  },
  {
   "cell_type": "code",
   "execution_count": null,
   "id": "3e0bf677",
   "metadata": {},
   "outputs": [],
   "source": []
  }
 ],
 "metadata": {
  "language_info": {
   "name": "python"
  }
 },
 "nbformat": 4,
 "nbformat_minor": 5
}
