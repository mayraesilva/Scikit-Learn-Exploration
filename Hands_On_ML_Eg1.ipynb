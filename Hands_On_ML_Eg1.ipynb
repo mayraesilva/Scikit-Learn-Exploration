{
 "cells": [
  {
   "cell_type": "markdown",
   "id": "10fcff0c",
   "metadata": {},
   "source": [
    "# 📚 Example 1-1: Training and running a linear model using Scikit-Learn"
   ]
  },
  {
   "cell_type": "markdown",
   "id": "51532ba9",
   "metadata": {},
   "source": [
    "This example is the first one on the book Hand-On Machine Learning with Scikit-Learn, Keras & TensorFlow by Aurélien Géron 3rd Edition"
   ]
  },
  {
   "cell_type": "markdown",
   "id": "b53fc525",
   "metadata": {},
   "source": [
    "Libraries and functions we're using:"
   ]
  },
  {
   "cell_type": "code",
   "execution_count": 1,
   "id": "c6532006",
   "metadata": {},
   "outputs": [],
   "source": [
    "import matplotlib.pyplot as plt\n",
    "import numpy as np\n",
    "import pandas as pd\n",
    "from sklearn.linear_model import LinearRegression"
   ]
  },
  {
   "cell_type": "markdown",
   "id": "498cf1df",
   "metadata": {},
   "source": [
    "Download and prepare the data:"
   ]
  },
  {
   "cell_type": "code",
   "execution_count": 3,
   "id": "1d6392b7",
   "metadata": {},
   "outputs": [],
   "source": [
    "data_root = \"https://github.com/ageron/data/raw/main/\"\n",
    "lifesat = pd.read_csv(data_root + \"lifesat/lifesat.csv\")\n",
    "X = lifesat[[\"GDP per capita (USD)\"]].values\n",
    "y = lifesat[[\"Life satisfaction\"]].values"
   ]
  },
  {
   "cell_type": "markdown",
   "id": "2d92bf23",
   "metadata": {},
   "source": [
    "Visualize the data:"
   ]
  },
  {
   "cell_type": "code",
   "execution_count": null,
   "id": "cccb5502",
   "metadata": {},
   "outputs": [],
   "source": []
  }
 ],
 "metadata": {
  "kernelspec": {
   "display_name": "base",
   "language": "python",
   "name": "python3"
  },
  "language_info": {
   "codemirror_mode": {
    "name": "ipython",
    "version": 3
   },
   "file_extension": ".py",
   "mimetype": "text/x-python",
   "name": "python",
   "nbconvert_exporter": "python",
   "pygments_lexer": "ipython3",
   "version": "3.9.13"
  }
 },
 "nbformat": 4,
 "nbformat_minor": 5
}
